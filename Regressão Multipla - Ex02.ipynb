{
 "cells": [
  {
   "cell_type": "markdown",
   "metadata": {},
   "source": [
    "## Outro exemplo"
   ]
  },
  {
   "cell_type": "code",
   "execution_count": 1,
   "metadata": {},
   "outputs": [],
   "source": [
    "import numpy as np\n",
    "import pandas as pd\n",
    "import matplotlib.pyplot as plt\n",
    "from sklearn.linear_model import LinearRegression\n",
    "import seaborn as sns\n",
    "import statsmodels.formula.api as sm"
   ]
  },
  {
   "cell_type": "code",
   "execution_count": 2,
   "metadata": {},
   "outputs": [],
   "source": [
    "df = pd.read_csv('https://raw.githubusercontent.com/Lessalc/Inferencia/main/geo.txt')\n",
    "df.drop(columns=['Id'], inplace=True)"
   ]
  },
  {
   "cell_type": "code",
   "execution_count": 27,
   "metadata": {},
   "outputs": [
    {
     "data": {
      "text/plain": [
       "(54, 7)"
      ]
     },
     "execution_count": 27,
     "metadata": {},
     "output_type": "execute_result"
    }
   ],
   "source": [
    "df.shape"
   ]
  },
  {
   "cell_type": "code",
   "execution_count": 6,
   "metadata": {},
   "outputs": [
    {
     "data": {
      "text/html": [
       "<div>\n",
       "<style scoped>\n",
       "    .dataframe tbody tr th:only-of-type {\n",
       "        vertical-align: middle;\n",
       "    }\n",
       "\n",
       "    .dataframe tbody tr th {\n",
       "        vertical-align: top;\n",
       "    }\n",
       "\n",
       "    .dataframe thead th {\n",
       "        text-align: right;\n",
       "    }\n",
       "</style>\n",
       "<table border=\"1\" class=\"dataframe\">\n",
       "  <thead>\n",
       "    <tr style=\"text-align: right;\">\n",
       "      <th></th>\n",
       "      <th>Preco</th>\n",
       "      <th>Area</th>\n",
       "      <th>Dist</th>\n",
       "      <th>Coef_Aprov</th>\n",
       "      <th>ACL_DECL</th>\n",
       "      <th>Frente</th>\n",
       "    </tr>\n",
       "  </thead>\n",
       "  <tbody>\n",
       "    <tr>\n",
       "      <th>count</th>\n",
       "      <td>54.000000</td>\n",
       "      <td>54.000000</td>\n",
       "      <td>54.000000</td>\n",
       "      <td>54.000000</td>\n",
       "      <td>54.000000</td>\n",
       "      <td>54.000000</td>\n",
       "    </tr>\n",
       "    <tr>\n",
       "      <th>mean</th>\n",
       "      <td>41296.296296</td>\n",
       "      <td>457.483519</td>\n",
       "      <td>284.259259</td>\n",
       "      <td>2.111111</td>\n",
       "      <td>0.930556</td>\n",
       "      <td>26.945185</td>\n",
       "    </tr>\n",
       "    <tr>\n",
       "      <th>std</th>\n",
       "      <td>16488.566227</td>\n",
       "      <td>261.527053</td>\n",
       "      <td>183.525247</td>\n",
       "      <td>0.743948</td>\n",
       "      <td>0.088177</td>\n",
       "      <td>17.570752</td>\n",
       "    </tr>\n",
       "    <tr>\n",
       "      <th>min</th>\n",
       "      <td>20000.000000</td>\n",
       "      <td>293.220000</td>\n",
       "      <td>40.000000</td>\n",
       "      <td>1.500000</td>\n",
       "      <td>0.750000</td>\n",
       "      <td>10.010000</td>\n",
       "    </tr>\n",
       "    <tr>\n",
       "      <th>25%</th>\n",
       "      <td>30000.000000</td>\n",
       "      <td>355.087500</td>\n",
       "      <td>200.000000</td>\n",
       "      <td>1.500000</td>\n",
       "      <td>0.900000</td>\n",
       "      <td>12.370000</td>\n",
       "    </tr>\n",
       "    <tr>\n",
       "      <th>50%</th>\n",
       "      <td>40000.000000</td>\n",
       "      <td>380.360000</td>\n",
       "      <td>200.000000</td>\n",
       "      <td>1.500000</td>\n",
       "      <td>1.000000</td>\n",
       "      <td>16.120000</td>\n",
       "    </tr>\n",
       "    <tr>\n",
       "      <th>75%</th>\n",
       "      <td>50000.000000</td>\n",
       "      <td>470.087500</td>\n",
       "      <td>500.000000</td>\n",
       "      <td>3.000000</td>\n",
       "      <td>1.000000</td>\n",
       "      <td>39.975000</td>\n",
       "    </tr>\n",
       "    <tr>\n",
       "      <th>max</th>\n",
       "      <td>120000.000000</td>\n",
       "      <td>2057.570000</td>\n",
       "      <td>650.000000</td>\n",
       "      <td>3.000000</td>\n",
       "      <td>1.000000</td>\n",
       "      <td>75.400000</td>\n",
       "    </tr>\n",
       "  </tbody>\n",
       "</table>\n",
       "</div>"
      ],
      "text/plain": [
       "               Preco         Area        Dist  Coef_Aprov   ACL_DECL  \\\n",
       "count      54.000000    54.000000   54.000000   54.000000  54.000000   \n",
       "mean    41296.296296   457.483519  284.259259    2.111111   0.930556   \n",
       "std     16488.566227   261.527053  183.525247    0.743948   0.088177   \n",
       "min     20000.000000   293.220000   40.000000    1.500000   0.750000   \n",
       "25%     30000.000000   355.087500  200.000000    1.500000   0.900000   \n",
       "50%     40000.000000   380.360000  200.000000    1.500000   1.000000   \n",
       "75%     50000.000000   470.087500  500.000000    3.000000   1.000000   \n",
       "max    120000.000000  2057.570000  650.000000    3.000000   1.000000   \n",
       "\n",
       "          Frente  \n",
       "count  54.000000  \n",
       "mean   26.945185  \n",
       "std    17.570752  \n",
       "min    10.010000  \n",
       "25%    12.370000  \n",
       "50%    16.120000  \n",
       "75%    39.975000  \n",
       "max    75.400000  "
      ]
     },
     "execution_count": 6,
     "metadata": {},
     "output_type": "execute_result"
    }
   ],
   "source": [
    "df.describe()"
   ]
  },
  {
   "cell_type": "code",
   "execution_count": 7,
   "metadata": {},
   "outputs": [
    {
     "data": {
      "image/png": "[encoded data removed]",
      "text/plain": [
       "<Figure size 720x360 with 2 Axes>"
      ]
     },
     "metadata": {
      "needs_background": "light"
     },
     "output_type": "display_data"
    }
   ],
   "source": [
    "sns.lmplot(x = 'Area', y = 'Preco', data = df, col='Coef_Aprov');"
   ]
  },
  {
   "cell_type": "code",
   "execution_count": 8,
   "metadata": {},
   "outputs": [],
   "source": [
    "# Acrescentando o LN(Preco)\n",
    "df['LNPreco'] = df['Preco'].apply(np.log)"
   ]
  },
  {
   "cell_type": "code",
   "execution_count": 9,
   "metadata": {},
   "outputs": [
    {
     "data": {
      "text/html": [
       "<div>\n",
       "<style scoped>\n",
       "    .dataframe tbody tr th:only-of-type {\n",
       "        vertical-align: middle;\n",
       "    }\n",
       "\n",
       "    .dataframe tbody tr th {\n",
       "        vertical-align: top;\n",
       "    }\n",
       "\n",
       "    .dataframe thead th {\n",
       "        text-align: right;\n",
       "    }\n",
       "</style>\n",
       "<table border=\"1\" class=\"dataframe\">\n",
       "  <thead>\n",
       "    <tr style=\"text-align: right;\">\n",
       "      <th></th>\n",
       "      <th>Preco</th>\n",
       "      <th>Area</th>\n",
       "      <th>Dist</th>\n",
       "      <th>Coef_Aprov</th>\n",
       "      <th>ACL_DECL</th>\n",
       "      <th>Frente</th>\n",
       "      <th>LNPreco</th>\n",
       "    </tr>\n",
       "  </thead>\n",
       "  <tbody>\n",
       "    <tr>\n",
       "      <th>0</th>\n",
       "      <td>25000</td>\n",
       "      <td>359.87</td>\n",
       "      <td>200</td>\n",
       "      <td>1.5</td>\n",
       "      <td>0.75</td>\n",
       "      <td>19.00</td>\n",
       "      <td>10.126631</td>\n",
       "    </tr>\n",
       "    <tr>\n",
       "      <th>1</th>\n",
       "      <td>45000</td>\n",
       "      <td>353.12</td>\n",
       "      <td>500</td>\n",
       "      <td>3.0</td>\n",
       "      <td>1.00</td>\n",
       "      <td>12.18</td>\n",
       "      <td>10.714418</td>\n",
       "    </tr>\n",
       "    <tr>\n",
       "      <th>2</th>\n",
       "      <td>45000</td>\n",
       "      <td>341.89</td>\n",
       "      <td>40</td>\n",
       "      <td>1.5</td>\n",
       "      <td>1.00</td>\n",
       "      <td>14.98</td>\n",
       "      <td>10.714418</td>\n",
       "    </tr>\n",
       "    <tr>\n",
       "      <th>3</th>\n",
       "      <td>20000</td>\n",
       "      <td>435.99</td>\n",
       "      <td>200</td>\n",
       "      <td>1.5</td>\n",
       "      <td>0.75</td>\n",
       "      <td>12.18</td>\n",
       "      <td>9.903488</td>\n",
       "    </tr>\n",
       "    <tr>\n",
       "      <th>4</th>\n",
       "      <td>25000</td>\n",
       "      <td>341.77</td>\n",
       "      <td>500</td>\n",
       "      <td>1.5</td>\n",
       "      <td>0.75</td>\n",
       "      <td>12.93</td>\n",
       "      <td>10.126631</td>\n",
       "    </tr>\n",
       "  </tbody>\n",
       "</table>\n",
       "</div>"
      ],
      "text/plain": [
       "   Preco    Area  Dist  Coef_Aprov  ACL_DECL  Frente    LNPreco\n",
       "0  25000  359.87   200         1.5      0.75   19.00  10.126631\n",
       "1  45000  353.12   500         3.0      1.00   12.18  10.714418\n",
       "2  45000  341.89    40         1.5      1.00   14.98  10.714418\n",
       "3  20000  435.99   200         1.5      0.75   12.18   9.903488\n",
       "4  25000  341.77   500         1.5      0.75   12.93  10.126631"
      ]
     },
     "execution_count": 9,
     "metadata": {},
     "output_type": "execute_result"
    }
   ],
   "source": [
    "df.head()"
   ]
  },
  {
   "cell_type": "code",
   "execution_count": 11,
   "metadata": {},
   "outputs": [
    {
     "data": {
      "image/png": "[encoded data removed]",
      "text/plain": [
       "<Figure size 424.75x360 with 1 Axes>"
      ]
     },
     "metadata": {
      "needs_background": "light"
     },
     "output_type": "display_data"
    }
   ],
   "source": [
    "sns.lmplot(x = 'Area', y = 'LNPreco', data = df, hue='Coef_Aprov');"
   ]
  },
  {
   "cell_type": "code",
   "execution_count": 24,
   "metadata": {},
   "outputs": [
    {
     "data": {
      "text/plain": [
       "<matplotlib.axes._subplots.AxesSubplot at 0x17da69097f0>"
      ]
     },
     "execution_count": 24,
     "metadata": {},
     "output_type": "execute_result"
    },
    {
     "data": {
      "image/png": "[encoded data removed]",
      "text/plain": [
       "<Figure size 1080x504 with 2 Axes>"
      ]
     },
     "metadata": {
      "needs_background": "light"
     },
     "output_type": "display_data"
    }
   ],
   "source": [
    "fig, axes = plt.subplots(1, 2, figsize=(15,7))\n",
    "\n",
    "sns.scatterplot(ax = axes[0], x = 'Frente', y = 'LNPreco', data = df, hue='Coef_Aprov')\n",
    "sns.regplot(ax = axes[0], x = 'Frente', y = 'LNPreco', scatter= None, data = df)\n",
    "\n",
    "sns.scatterplot(ax = axes[1],  x = 'Area', y = 'LNPreco', data = df, hue='Coef_Aprov')\n",
    "sns.regplot(ax = axes[1], x = 'Area', y = 'LNPreco', scatter= None, data = df)"
   ]
  },
  {
   "cell_type": "code",
   "execution_count": 52,
   "metadata": {},
   "outputs": [
    {
     "data": {
      "text/plain": [
       "0.5883022243050506"
      ]
     },
     "execution_count": 52,
     "metadata": {},
     "output_type": "execute_result"
    }
   ],
   "source": [
    "# Modelo usando o Preço\n",
    "modelo1 = LinearRegression()\n",
    "X1 = df.loc[:,['Area','Dist','Coef_Aprov','ACL_DECL','Frente']]\n",
    "y1 = df.loc[:,'Preco'].values.reshape(-1,1)\n",
    "modelo1.fit(X1, y1)\n",
    "modelo1.score(X1,y1)"
   ]
  },
  {
   "cell_type": "code",
   "execution_count": 53,
   "metadata": {},
   "outputs": [
    {
     "data": {
      "text/plain": [
       "0.6980736131901512"
      ]
     },
     "execution_count": 53,
     "metadata": {},
     "output_type": "execute_result"
    }
   ],
   "source": [
    "# Modelo usando o LN(Preço)\n",
    "modelo2 = LinearRegression()\n",
    "X2 = df.loc[:,['Area','Dist','Coef_Aprov','ACL_DECL','Frente']]\n",
    "y2 = df.loc[:,'LNPreco'].values.reshape(-1,1)\n",
    "modelo2.fit(X2, y2)\n",
    "modelo2.score(X2,y2)"
   ]
  },
  {
   "cell_type": "code",
   "execution_count": 36,
   "metadata": {},
   "outputs": [
    {
     "data": {
      "text/html": [
       "<table class=\"simpletable\">\n",
       "<caption>OLS Regression Results</caption>\n",
       "<tr>\n",
       "  <th>Dep. Variable:</th>          <td>Preco</td>      <th>  R-squared:         </th> <td>   0.588</td>\n",
       "</tr>\n",
       "<tr>\n",
       "  <th>Model:</th>                   <td>OLS</td>       <th>  Adj. R-squared:    </th> <td>   0.545</td>\n",
       "</tr>\n",
       "<tr>\n",
       "  <th>Method:</th>             <td>Least Squares</td>  <th>  F-statistic:       </th> <td>   13.72</td>\n",
       "</tr>\n",
       "<tr>\n",
       "  <th>Date:</th>             <td>Tue, 08 Dec 2020</td> <th>  Prob (F-statistic):</th> <td>2.52e-08</td>\n",
       "</tr>\n",
       "<tr>\n",
       "  <th>Time:</th>                 <td>01:56:49</td>     <th>  Log-Likelihood:    </th> <td> -576.52</td>\n",
       "</tr>\n",
       "<tr>\n",
       "  <th>No. Observations:</th>      <td>    54</td>      <th>  AIC:               </th> <td>   1165.</td>\n",
       "</tr>\n",
       "<tr>\n",
       "  <th>Df Residuals:</th>          <td>    48</td>      <th>  BIC:               </th> <td>   1177.</td>\n",
       "</tr>\n",
       "<tr>\n",
       "  <th>Df Model:</th>              <td>     5</td>      <th>                     </th>     <td> </td>   \n",
       "</tr>\n",
       "<tr>\n",
       "  <th>Covariance Type:</th>      <td>nonrobust</td>    <th>                     </th>     <td> </td>   \n",
       "</tr>\n",
       "</table>\n",
       "<table class=\"simpletable\">\n",
       "<tr>\n",
       "       <td></td>         <th>coef</th>     <th>std err</th>      <th>t</th>      <th>P>|t|</th>  <th>[0.025</th>    <th>0.975]</th>  \n",
       "</tr>\n",
       "<tr>\n",
       "  <th>Intercept</th>  <td>-3.903e+04</td> <td> 1.76e+04</td> <td>   -2.219</td> <td> 0.031</td> <td>-7.44e+04</td> <td>-3662.054</td>\n",
       "</tr>\n",
       "<tr>\n",
       "  <th>Area</th>       <td>   16.6251</td> <td>    6.647</td> <td>    2.501</td> <td> 0.016</td> <td>    3.260</td> <td>   29.991</td>\n",
       "</tr>\n",
       "<tr>\n",
       "  <th>Dist</th>       <td>   -3.9370</td> <td>    9.020</td> <td>   -0.436</td> <td> 0.664</td> <td>  -22.073</td> <td>   14.199</td>\n",
       "</tr>\n",
       "<tr>\n",
       "  <th>Coef_Aprov</th> <td> 8088.6255</td> <td> 2270.095</td> <td>    3.563</td> <td> 0.001</td> <td> 3524.294</td> <td> 1.27e+04</td>\n",
       "</tr>\n",
       "<tr>\n",
       "  <th>ACL_DECL</th>   <td> 5.471e+04</td> <td> 1.83e+04</td> <td>    2.987</td> <td> 0.004</td> <td> 1.79e+04</td> <td> 9.15e+04</td>\n",
       "</tr>\n",
       "<tr>\n",
       "  <th>Frente</th>     <td>  217.2639</td> <td>   95.773</td> <td>    2.269</td> <td> 0.028</td> <td>   24.700</td> <td>  409.828</td>\n",
       "</tr>\n",
       "</table>\n",
       "<table class=\"simpletable\">\n",
       "<tr>\n",
       "  <th>Omnibus:</th>       <td>48.606</td> <th>  Durbin-Watson:     </th> <td>   2.139</td>\n",
       "</tr>\n",
       "<tr>\n",
       "  <th>Prob(Omnibus):</th> <td> 0.000</td> <th>  Jarque-Bera (JB):  </th> <td> 251.369</td>\n",
       "</tr>\n",
       "<tr>\n",
       "  <th>Skew:</th>          <td> 2.326</td> <th>  Prob(JB):          </th> <td>2.61e-55</td>\n",
       "</tr>\n",
       "<tr>\n",
       "  <th>Kurtosis:</th>      <td>12.491</td> <th>  Cond. No.          </th> <td>9.57e+03</td>\n",
       "</tr>\n",
       "</table><br/><br/>Warnings:<br/>[1] Standard Errors assume that the covariance matrix of the errors is correctly specified.<br/>[2] The condition number is large, 9.57e+03. This might indicate that there are<br/>strong multicollinearity or other numerical problems."
      ],
      "text/plain": [
       "<class 'statsmodels.iolib.summary.Summary'>\n",
       "\"\"\"\n",
       "                            OLS Regression Results                            \n",
       "==============================================================================\n",
       "Dep. Variable:                  Preco   R-squared:                       0.588\n",
       "Model:                            OLS   Adj. R-squared:                  0.545\n",
       "Method:                 Least Squares   F-statistic:                     13.72\n",
       "Date:                Tue, 08 Dec 2020   Prob (F-statistic):           2.52e-08\n",
       "Time:                        01:56:49   Log-Likelihood:                -576.52\n",
       "No. Observations:                  54   AIC:                             1165.\n",
       "Df Residuals:                      48   BIC:                             1177.\n",
       "Df Model:                           5                                         \n",
       "Covariance Type:            nonrobust                                         \n",
       "==============================================================================\n",
       "                 coef    std err          t      P>|t|      [0.025      0.975]\n",
       "------------------------------------------------------------------------------\n",
       "Intercept  -3.903e+04   1.76e+04     -2.219      0.031   -7.44e+04   -3662.054\n",
       "Area          16.6251      6.647      2.501      0.016       3.260      29.991\n",
       "Dist          -3.9370      9.020     -0.436      0.664     -22.073      14.199\n",
       "Coef_Aprov  8088.6255   2270.095      3.563      0.001    3524.294    1.27e+04\n",
       "ACL_DECL    5.471e+04   1.83e+04      2.987      0.004    1.79e+04    9.15e+04\n",
       "Frente       217.2639     95.773      2.269      0.028      24.700     409.828\n",
       "==============================================================================\n",
       "Omnibus:                       48.606   Durbin-Watson:                   2.139\n",
       "Prob(Omnibus):                  0.000   Jarque-Bera (JB):              251.369\n",
       "Skew:                           2.326   Prob(JB):                     2.61e-55\n",
       "Kurtosis:                      12.491   Cond. No.                     9.57e+03\n",
       "==============================================================================\n",
       "\n",
       "Warnings:\n",
       "[1] Standard Errors assume that the covariance matrix of the errors is correctly specified.\n",
       "[2] The condition number is large, 9.57e+03. This might indicate that there are\n",
       "strong multicollinearity or other numerical problems.\n",
       "\"\"\""
      ]
     },
     "execution_count": 36,
     "metadata": {},
     "output_type": "execute_result"
    }
   ],
   "source": [
    "modelo3 = sm.ols(formula = 'Preco ~ Area+Dist+Coef_Aprov+ACL_DECL+Frente', data = df)\n",
    "modelo3 = modelo3.fit()\n",
    "modelo3.summary()"
   ]
  },
  {
   "cell_type": "code",
   "execution_count": 44,
   "metadata": {},
   "outputs": [
    {
     "data": {
      "text/html": [
       "<table class=\"simpletable\">\n",
       "<caption>OLS Regression Results</caption>\n",
       "<tr>\n",
       "  <th>Dep. Variable:</th>         <td>LNPreco</td>     <th>  R-squared:         </th> <td>   0.698</td>\n",
       "</tr>\n",
       "<tr>\n",
       "  <th>Model:</th>                   <td>OLS</td>       <th>  Adj. R-squared:    </th> <td>   0.667</td>\n",
       "</tr>\n",
       "<tr>\n",
       "  <th>Method:</th>             <td>Least Squares</td>  <th>  F-statistic:       </th> <td>   22.20</td>\n",
       "</tr>\n",
       "<tr>\n",
       "  <th>Date:</th>             <td>Tue, 08 Dec 2020</td> <th>  Prob (F-statistic):</th> <td>1.88e-11</td>\n",
       "</tr>\n",
       "<tr>\n",
       "  <th>Time:</th>                 <td>01:59:06</td>     <th>  Log-Likelihood:    </th> <td>  11.077</td>\n",
       "</tr>\n",
       "<tr>\n",
       "  <th>No. Observations:</th>      <td>    54</td>      <th>  AIC:               </th> <td>  -10.15</td>\n",
       "</tr>\n",
       "<tr>\n",
       "  <th>Df Residuals:</th>          <td>    48</td>      <th>  BIC:               </th> <td>   1.780</td>\n",
       "</tr>\n",
       "<tr>\n",
       "  <th>Df Model:</th>              <td>     5</td>      <th>                     </th>     <td> </td>   \n",
       "</tr>\n",
       "<tr>\n",
       "  <th>Covariance Type:</th>      <td>nonrobust</td>    <th>                     </th>     <td> </td>   \n",
       "</tr>\n",
       "</table>\n",
       "<table class=\"simpletable\">\n",
       "<tr>\n",
       "       <td></td>         <th>coef</th>     <th>std err</th>      <th>t</th>      <th>P>|t|</th>  <th>[0.025</th>    <th>0.975]</th>  \n",
       "</tr>\n",
       "<tr>\n",
       "  <th>Intercept</th>  <td>    8.1297</td> <td>    0.331</td> <td>   24.575</td> <td> 0.000</td> <td>    7.465</td> <td>    8.795</td>\n",
       "</tr>\n",
       "<tr>\n",
       "  <th>Area</th>       <td>    0.0002</td> <td>    0.000</td> <td>    1.998</td> <td> 0.051</td> <td>-1.61e-06</td> <td>    0.001</td>\n",
       "</tr>\n",
       "<tr>\n",
       "  <th>Dist</th>       <td>-3.722e-05</td> <td>    0.000</td> <td>   -0.219</td> <td> 0.827</td> <td>   -0.000</td> <td>    0.000</td>\n",
       "</tr>\n",
       "<tr>\n",
       "  <th>Coef_Aprov</th> <td>    0.1943</td> <td>    0.043</td> <td>    4.553</td> <td> 0.000</td> <td>    0.109</td> <td>    0.280</td>\n",
       "</tr>\n",
       "<tr>\n",
       "  <th>ACL_DECL</th>   <td>    1.9415</td> <td>    0.344</td> <td>    5.637</td> <td> 0.000</td> <td>    1.249</td> <td>    2.634</td>\n",
       "</tr>\n",
       "<tr>\n",
       "  <th>Frente</th>     <td>    0.0041</td> <td>    0.002</td> <td>    2.304</td> <td> 0.026</td> <td>    0.001</td> <td>    0.008</td>\n",
       "</tr>\n",
       "</table>\n",
       "<table class=\"simpletable\">\n",
       "<tr>\n",
       "  <th>Omnibus:</th>       <td>10.247</td> <th>  Durbin-Watson:     </th> <td>   2.028</td>\n",
       "</tr>\n",
       "<tr>\n",
       "  <th>Prob(Omnibus):</th> <td> 0.006</td> <th>  Jarque-Bera (JB):  </th> <td>   9.857</td>\n",
       "</tr>\n",
       "<tr>\n",
       "  <th>Skew:</th>          <td> 0.935</td> <th>  Prob(JB):          </th> <td> 0.00724</td>\n",
       "</tr>\n",
       "<tr>\n",
       "  <th>Kurtosis:</th>      <td> 3.940</td> <th>  Cond. No.          </th> <td>9.57e+03</td>\n",
       "</tr>\n",
       "</table><br/><br/>Warnings:<br/>[1] Standard Errors assume that the covariance matrix of the errors is correctly specified.<br/>[2] The condition number is large, 9.57e+03. This might indicate that there are<br/>strong multicollinearity or other numerical problems."
      ],
      "text/plain": [
       "<class 'statsmodels.iolib.summary.Summary'>\n",
       "\"\"\"\n",
       "                            OLS Regression Results                            \n",
       "==============================================================================\n",
       "Dep. Variable:                LNPreco   R-squared:                       0.698\n",
       "Model:                            OLS   Adj. R-squared:                  0.667\n",
       "Method:                 Least Squares   F-statistic:                     22.20\n",
       "Date:                Tue, 08 Dec 2020   Prob (F-statistic):           1.88e-11\n",
       "Time:                        01:59:06   Log-Likelihood:                 11.077\n",
       "No. Observations:                  54   AIC:                            -10.15\n",
       "Df Residuals:                      48   BIC:                             1.780\n",
       "Df Model:                           5                                         \n",
       "Covariance Type:            nonrobust                                         \n",
       "==============================================================================\n",
       "                 coef    std err          t      P>|t|      [0.025      0.975]\n",
       "------------------------------------------------------------------------------\n",
       "Intercept      8.1297      0.331     24.575      0.000       7.465       8.795\n",
       "Area           0.0002      0.000      1.998      0.051   -1.61e-06       0.001\n",
       "Dist       -3.722e-05      0.000     -0.219      0.827      -0.000       0.000\n",
       "Coef_Aprov     0.1943      0.043      4.553      0.000       0.109       0.280\n",
       "ACL_DECL       1.9415      0.344      5.637      0.000       1.249       2.634\n",
       "Frente         0.0041      0.002      2.304      0.026       0.001       0.008\n",
       "==============================================================================\n",
       "Omnibus:                       10.247   Durbin-Watson:                   2.028\n",
       "Prob(Omnibus):                  0.006   Jarque-Bera (JB):                9.857\n",
       "Skew:                           0.935   Prob(JB):                      0.00724\n",
       "Kurtosis:                       3.940   Cond. No.                     9.57e+03\n",
       "==============================================================================\n",
       "\n",
       "Warnings:\n",
       "[1] Standard Errors assume that the covariance matrix of the errors is correctly specified.\n",
       "[2] The condition number is large, 9.57e+03. This might indicate that there are\n",
       "strong multicollinearity or other numerical problems.\n",
       "\"\"\""
      ]
     },
     "execution_count": 44,
     "metadata": {},
     "output_type": "execute_result"
    }
   ],
   "source": [
    "modelo4 = sm.ols(formula = 'LNPreco ~ Area+Dist+Coef_Aprov+ACL_DECL+Frente', data = df)\n",
    "modelo4 = modelo4.fit()\n",
    "modelo4.summary()"
   ]
  },
  {
   "cell_type": "code",
   "execution_count": 55,
   "metadata": {},
   "outputs": [
    {
     "name": "stdout",
     "output_type": "stream",
     "text": [
      "[[31877.22091867]]\n",
      "[[32848.74354921]]\n",
      "0    31877.220919\n",
      "dtype: float64\n",
      "0    32848.743549\n",
      "dtype: float64\n"
     ]
    }
   ],
   "source": [
    "valor_novo = np.array([260,180,0.75,1,30])\n",
    "valor_novodf = pd.DataFrame(valor_novo.reshape(1,-1))\n",
    "colunas2 = ['Area','Dist','Coef_Aprov','ACL_DECL','Frente']\n",
    "valor_novodf.columns = colunas2\n",
    "valor_novodf.head()\n",
    "\n",
    "print(modelo1.predict(valor_novo.reshape(1,-1)))\n",
    "print(np.exp(modelo2.predict(valor_novo.reshape(1,-1))))\n",
    "print(modelo3.predict(valor_novodf))\n",
    "print(np.exp(modelo4.predict(valor_novodf)))"
   ]
  },
  {
   "cell_type": "markdown",
   "metadata": {},
   "source": [
    "### Avaliand com Treino e Teste e Usando outros Algoritmos"
   ]
  },
  {
   "cell_type": "code",
   "execution_count": 28,
   "metadata": {},
   "outputs": [],
   "source": [
    "from sklearn.linear_model import Ridge\n",
    "from sklearn.model_selection import train_test_split"
   ]
  },
  {
   "cell_type": "code",
   "execution_count": 29,
   "metadata": {},
   "outputs": [],
   "source": [
    "X_train, X_test, y_train, y_test = train_test_split(X2, y2, random_state=0)"
   ]
  },
  {
   "cell_type": "code",
   "execution_count": 31,
   "metadata": {},
   "outputs": [
    {
     "name": "stdout",
     "output_type": "stream",
     "text": [
      "Training set score: 0.79\n",
      "Test set score: 0.30\n"
     ]
    }
   ],
   "source": [
    "lr = LinearRegression().fit(X_train, y_train)\n",
    "print(\"Training set score: {:.2f}\".format(lr.score(X_train, y_train)))\n",
    "print(\"Test set score: {:.2f}\".format(lr.score(X_test, y_test)))"
   ]
  },
  {
   "cell_type": "code",
   "execution_count": 30,
   "metadata": {},
   "outputs": [
    {
     "name": "stdout",
     "output_type": "stream",
     "text": [
      "Training set score: 0.63\n",
      "Test set score: 0.27\n",
      "Training set score: 0.51\n",
      "Test set score: 0.26\n",
      "Training set score: 0.51\n",
      "Test set score: 0.26\n"
     ]
    }
   ],
   "source": [
    "# Usando Ridge - Regularização dos atributos\n",
    "from sklearn.linear_model import Ridge\n",
    "ridge = Ridge().fit(X_train, y_train)\n",
    "print(\"Training set score: {:.2f}\".format(ridge.score(X_train, y_train)))\n",
    "print(\"Test set score: {:.2f}\".format(ridge.score(X_test, y_test)))    \n",
    "\n",
    "ridge10 = Ridge(alpha=10).fit(X_train, y_train)\n",
    "print(\"Training set score: {:.2f}\".format(ridge10.score(X_train, y_train)))\n",
    "print(\"Test set score: {:.2f}\".format(ridge10.score(X_test, y_test)))\n",
    "\n",
    "ridge01 = Ridge(alpha=0.1).fit(X_train, y_train)\n",
    "print(\"Training set score: {:.2f}\".format(ridge10.score(X_train, y_train)))\n",
    "print(\"Test set score: {:.2f}\".format(ridge10.score(X_test, y_test)))"
   ]
  },
  {
   "cell_type": "code",
   "execution_count": 35,
   "metadata": {},
   "outputs": [
    {
     "name": "stdout",
     "output_type": "stream",
     "text": [
      "Training set score: 0.16\n",
      "Test set score: 0.10\n",
      "Number of features used: 2\n",
      "Training set score: 0.67\n",
      "Test set score: 0.29\n",
      "Number of features used: 5\n",
      "Training set score: 0.79\n",
      "Test set score: 0.30\n",
      "Number of features used: 5\n"
     ]
    }
   ],
   "source": [
    "\n",
    "from sklearn.linear_model import Lasso\n",
    "lasso = Lasso().fit(X_train, y_train)\n",
    "print(\"Training set score: {:.2f}\".format(lasso.score(X_train, y_train)))\n",
    "print(\"Test set score: {:.2f}\".format(lasso.score(X_test, y_test)))\n",
    "print(\"Number of features used: {}\".format(np.sum(lasso.coef_ != 0)))\n",
    "\n",
    "# we increase the default setting of \"max_iter\",\n",
    "# otherwise the model would warn us that we should increase max_iter.\n",
    "lasso001 = Lasso(alpha=0.01, max_iter=100000).fit(X_train, y_train)\n",
    "print(\"Training set score: {:.2f}\".format(lasso001.score(X_train, y_train)))\n",
    "print(\"Test set score: {:.2f}\".format(lasso001.score(X_test, y_test)))\n",
    "print(\"Number of features used: {}\".format(np.sum(lasso001.coef_ != 0)))\n",
    "\n",
    "# Vamos voltar par o overfittign\n",
    "lasso00001 = Lasso(alpha=0.0001, max_iter=100000).fit(X_train, y_train)\n",
    "print(\"Training set score: {:.2f}\".format(lasso00001.score(X_train, y_train)))\n",
    "print(\"Test set score: {:.2f}\".format(lasso00001.score(X_test, y_test)))\n",
    "print(\"Number of features used: {}\".format(np.sum(lasso00001.coef_ != 0)))"
   ]
  },
  {
   "cell_type": "code",
   "execution_count": null,
   "metadata": {},
   "outputs": [],
   "source": []
  }
 ],
 "metadata": {
  "kernelspec": {
   "display_name": "Python 3",
   "language": "python",
   "name": "python3"
  },
  "language_info": {
   "codemirror_mode": {
    "name": "ipython",
    "version": 3
   },
   "file_extension": ".py",
   "mimetype": "text/x-python",
   "name": "python",
   "nbconvert_exporter": "python",
   "pygments_lexer": "ipython3",
   "version": "3.7.3"
  }
 },
 "nbformat": 4,
 "nbformat_minor": 2
}
