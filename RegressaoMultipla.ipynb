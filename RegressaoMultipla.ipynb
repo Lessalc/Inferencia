{
 "cells": [
  {
   "cell_type": "markdown",
   "metadata": {},
   "source": [
    "# Arquivo para teste de Regressão Múltipla e Outros Métodos em Inferência de Preços"
   ]
  },
  {
   "cell_type": "code",
   "execution_count": 5,
   "metadata": {},
   "outputs": [],
   "source": [
    "import numpy as np\n",
    "import pandas as pd\n",
    "import matplotlib.pyplot as plt\n",
    "from sklearn.linear_model import LinearRegression\n",
    "import seaborn as sns\n",
    "import statsmodels.formula.api as sm"
   ]
  },
  {
   "cell_type": "code",
   "execution_count": 75,
   "metadata": {},
   "outputs": [],
   "source": [
    "df = pd.read_csv('https://raw.githubusercontent.com/Lessalc/Inferencia/main/dados.csv', sep = ';')\n",
    "df.drop(['DADO'], axis = 1, inplace=True)"
   ]
  },
  {
   "cell_type": "code",
   "execution_count": 81,
   "metadata": {},
   "outputs": [
    {
     "data": {
      "text/html": [
       "<div>\n",
       "<style scoped>\n",
       "    .dataframe tbody tr th:only-of-type {\n",
       "        vertical-align: middle;\n",
       "    }\n",
       "\n",
       "    .dataframe tbody tr th {\n",
       "        vertical-align: top;\n",
       "    }\n",
       "\n",
       "    .dataframe thead th {\n",
       "        text-align: right;\n",
       "    }\n",
       "</style>\n",
       "<table border=\"1\" class=\"dataframe\">\n",
       "  <thead>\n",
       "    <tr style=\"text-align: right;\">\n",
       "      <th></th>\n",
       "      <th>AP</th>\n",
       "      <th>APANDAR</th>\n",
       "      <th>PA</th>\n",
       "      <th>COND</th>\n",
       "      <th>PU</th>\n",
       "      <th>PA_CATEG</th>\n",
       "      <th>PA_CATEG_DICT</th>\n",
       "    </tr>\n",
       "  </thead>\n",
       "  <tbody>\n",
       "    <tr>\n",
       "      <th>0</th>\n",
       "      <td>114.0</td>\n",
       "      <td>4</td>\n",
       "      <td>ALTO</td>\n",
       "      <td>800.0</td>\n",
       "      <td>5000.00</td>\n",
       "      <td>2</td>\n",
       "      <td>2</td>\n",
       "    </tr>\n",
       "    <tr>\n",
       "      <th>1</th>\n",
       "      <td>110.0</td>\n",
       "      <td>2</td>\n",
       "      <td>BAIXO</td>\n",
       "      <td>935.0</td>\n",
       "      <td>4545.45</td>\n",
       "      <td>0</td>\n",
       "      <td>0</td>\n",
       "    </tr>\n",
       "    <tr>\n",
       "      <th>2</th>\n",
       "      <td>94.0</td>\n",
       "      <td>3</td>\n",
       "      <td>ALTO</td>\n",
       "      <td>520.0</td>\n",
       "      <td>5531.91</td>\n",
       "      <td>2</td>\n",
       "      <td>2</td>\n",
       "    </tr>\n",
       "    <tr>\n",
       "      <th>3</th>\n",
       "      <td>94.0</td>\n",
       "      <td>3</td>\n",
       "      <td>ALTO</td>\n",
       "      <td>520.0</td>\n",
       "      <td>5638.30</td>\n",
       "      <td>2</td>\n",
       "      <td>2</td>\n",
       "    </tr>\n",
       "    <tr>\n",
       "      <th>4</th>\n",
       "      <td>70.0</td>\n",
       "      <td>4</td>\n",
       "      <td>NORMAL</td>\n",
       "      <td>400.0</td>\n",
       "      <td>4500.00</td>\n",
       "      <td>1</td>\n",
       "      <td>1</td>\n",
       "    </tr>\n",
       "  </tbody>\n",
       "</table>\n",
       "</div>"
      ],
      "text/plain": [
       "      AP  APANDAR      PA   COND       PU  PA_CATEG  PA_CATEG_DICT\n",
       "0  114.0        4    ALTO  800.0  5000.00         2              2\n",
       "1  110.0        2   BAIXO  935.0  4545.45         0              0\n",
       "2   94.0        3    ALTO  520.0  5531.91         2              2\n",
       "3   94.0        3    ALTO  520.0  5638.30         2              2\n",
       "4   70.0        4  NORMAL  400.0  4500.00         1              1"
      ]
     },
     "execution_count": 81,
     "metadata": {},
     "output_type": "execute_result"
    }
   ],
   "source": [
    "df.head()"
   ]
  },
  {
   "cell_type": "code",
   "execution_count": 82,
   "metadata": {},
   "outputs": [
    {
     "name": "stdout",
     "output_type": "stream",
     "text": [
      "<class 'pandas.core.frame.DataFrame'>\n",
      "RangeIndex: 28 entries, 0 to 27\n",
      "Data columns (total 7 columns):\n",
      "AP               28 non-null float64\n",
      "APANDAR          28 non-null int64\n",
      "PA               28 non-null object\n",
      "COND             28 non-null float64\n",
      "PU               28 non-null float64\n",
      "PA_CATEG         28 non-null int64\n",
      "PA_CATEG_DICT    28 non-null int64\n",
      "dtypes: float64(3), int64(3), object(1)\n",
      "memory usage: 1.6+ KB\n"
     ]
    }
   ],
   "source": [
    "df.info()"
   ]
  },
  {
   "cell_type": "markdown",
   "metadata": {},
   "source": [
    "### Primeiro Parte: Tratar os tipos de dados.\n",
    "- Vamos transformar 'AP' enm float \n",
    "- PA em categórico, para isso vamos criar uma função de classificação"
   ]
  },
  {
   "cell_type": "code",
   "execution_count": 78,
   "metadata": {},
   "outputs": [],
   "source": [
    "def objeto_para_categorico(array, lista_objetos, lista_valor):\n",
    "    new_arr = []\n",
    "    for arr in array:\n",
    "        posicao = lista_objetos.index(arr)\n",
    "        new_arr.append(lista_valor[posicao])\n",
    "    return new_arr"
   ]
  },
  {
   "cell_type": "code",
   "execution_count": 79,
   "metadata": {},
   "outputs": [],
   "source": [
    "# Usamos uma função genérica, outra forma é usar um dicionário e a função map\n",
    "df['PA_CATEG'] = objeto_para_categorico(df['PA'].values, ['BAIXO', 'NORMAL', 'ALTO'], [0,1,2]) \n",
    "# Mesmo resultado, de uma forma mais direta\n",
    "categorias = dict({'BAIXO': 0, 'NORMAL': 1, 'ALTO': 2})\n",
    "df['PA_CATEG_DICT'] = df['PA'].map(categorias)\n",
    "df['AP'] = df['AP'].str.replace(',','.')\n",
    "df['AP'] = pd.to_numeric(df['AP'], errors='coerce')"
   ]
  },
  {
   "cell_type": "code",
   "execution_count": 83,
   "metadata": {},
   "outputs": [],
   "source": [
    "# Iremos criar outra coluna, LN de PU\n",
    "df['LNPU'] = df['PU'].apply(np.log)"
   ]
  },
  {
   "cell_type": "code",
   "execution_count": 84,
   "metadata": {},
   "outputs": [
    {
     "data": {
      "text/plain": [
       "array([4, 2, 3, 6, 1], dtype=int64)"
      ]
     },
     "execution_count": 84,
     "metadata": {},
     "output_type": "execute_result"
    }
   ],
   "source": [
    "df.APANDAR.unique()"
   ]
  },
  {
   "cell_type": "code",
   "execution_count": 44,
   "metadata": {},
   "outputs": [
    {
     "data": {
      "text/html": [
       "<div>\n",
       "<style scoped>\n",
       "    .dataframe tbody tr th:only-of-type {\n",
       "        vertical-align: middle;\n",
       "    }\n",
       "\n",
       "    .dataframe tbody tr th {\n",
       "        vertical-align: top;\n",
       "    }\n",
       "\n",
       "    .dataframe thead th {\n",
       "        text-align: right;\n",
       "    }\n",
       "</style>\n",
       "<table border=\"1\" class=\"dataframe\">\n",
       "  <thead>\n",
       "    <tr style=\"text-align: right;\">\n",
       "      <th></th>\n",
       "      <th>AP</th>\n",
       "      <th>APANDAR</th>\n",
       "      <th>PA</th>\n",
       "      <th>COND</th>\n",
       "      <th>PU</th>\n",
       "      <th>PA_CATEG</th>\n",
       "      <th>PA_CATEG_DICT</th>\n",
       "      <th>LNPU</th>\n",
       "    </tr>\n",
       "  </thead>\n",
       "  <tbody>\n",
       "    <tr>\n",
       "      <th>0</th>\n",
       "      <td>114.0</td>\n",
       "      <td>4</td>\n",
       "      <td>ALTO</td>\n",
       "      <td>800.0</td>\n",
       "      <td>5000.00</td>\n",
       "      <td>2</td>\n",
       "      <td>2</td>\n",
       "      <td>8.517193</td>\n",
       "    </tr>\n",
       "    <tr>\n",
       "      <th>1</th>\n",
       "      <td>110.0</td>\n",
       "      <td>2</td>\n",
       "      <td>BAIXO</td>\n",
       "      <td>935.0</td>\n",
       "      <td>4545.45</td>\n",
       "      <td>0</td>\n",
       "      <td>0</td>\n",
       "      <td>8.421882</td>\n",
       "    </tr>\n",
       "    <tr>\n",
       "      <th>2</th>\n",
       "      <td>94.0</td>\n",
       "      <td>3</td>\n",
       "      <td>ALTO</td>\n",
       "      <td>520.0</td>\n",
       "      <td>5531.91</td>\n",
       "      <td>2</td>\n",
       "      <td>2</td>\n",
       "      <td>8.618288</td>\n",
       "    </tr>\n",
       "    <tr>\n",
       "      <th>3</th>\n",
       "      <td>94.0</td>\n",
       "      <td>3</td>\n",
       "      <td>ALTO</td>\n",
       "      <td>520.0</td>\n",
       "      <td>5638.30</td>\n",
       "      <td>2</td>\n",
       "      <td>2</td>\n",
       "      <td>8.637338</td>\n",
       "    </tr>\n",
       "    <tr>\n",
       "      <th>4</th>\n",
       "      <td>70.0</td>\n",
       "      <td>4</td>\n",
       "      <td>NORMAL</td>\n",
       "      <td>400.0</td>\n",
       "      <td>4500.00</td>\n",
       "      <td>1</td>\n",
       "      <td>1</td>\n",
       "      <td>8.411833</td>\n",
       "    </tr>\n",
       "  </tbody>\n",
       "</table>\n",
       "</div>"
      ],
      "text/plain": [
       "      AP  APANDAR      PA   COND       PU  PA_CATEG  PA_CATEG_DICT      LNPU\n",
       "0  114.0        4    ALTO  800.0  5000.00         2              2  8.517193\n",
       "1  110.0        2   BAIXO  935.0  4545.45         0              0  8.421882\n",
       "2   94.0        3    ALTO  520.0  5531.91         2              2  8.618288\n",
       "3   94.0        3    ALTO  520.0  5638.30         2              2  8.637338\n",
       "4   70.0        4  NORMAL  400.0  4500.00         1              1  8.411833"
      ]
     },
     "execution_count": 44,
     "metadata": {},
     "output_type": "execute_result"
    }
   ],
   "source": [
    "df.head()"
   ]
  },
  {
   "cell_type": "markdown",
   "metadata": {},
   "source": [
    "### Segunda Parte: Visualização dos Parâmetros"
   ]
  },
  {
   "cell_type": "code",
   "execution_count": 85,
   "metadata": {},
   "outputs": [
    {
     "data": {
      "image/png": "[encoded data removed]",
      "text/plain": [
       "<Figure size 1080x360 with 3 Axes>"
      ]
     },
     "metadata": {
      "needs_background": "light"
     },
     "output_type": "display_data"
    }
   ],
   "source": [
    "sns.lmplot(x = 'AP', y = 'PU', data = df, col='PA');"
   ]
  },
  {
   "cell_type": "code",
   "execution_count": 86,
   "metadata": {},
   "outputs": [
    {
     "data": {
      "image/png": "[encoded data removed]",
      "text/plain": [
       "<Figure size 439.125x360 with 1 Axes>"
      ]
     },
     "metadata": {
      "needs_background": "light"
     },
     "output_type": "display_data"
    }
   ],
   "source": [
    "sns.lmplot(x = 'AP', y = 'LNPU', data = df, hue='PA')\n",
    "plt.ylim(7.5,9.5);"
   ]
  },
  {
   "cell_type": "code",
   "execution_count": 87,
   "metadata": {},
   "outputs": [
    {
     "data": {
      "image/png": "[encoded data removed]",
      "text/plain": [
       "<Figure size 439.125x360 with 1 Axes>"
      ]
     },
     "metadata": {
      "needs_background": "light"
     },
     "output_type": "display_data"
    }
   ],
   "source": [
    "sns.lmplot(x = 'COND', y = 'LNPU', data = df, hue='PA')\n",
    "plt.ylim(7.5,9.5);"
   ]
  },
  {
   "cell_type": "markdown",
   "metadata": {},
   "source": [
    "### Terceira Parte: Criando o Modelo de Regressão\n",
    "- Iremos gerar de duas formas diferentes"
   ]
  },
  {
   "cell_type": "code",
   "execution_count": 110,
   "metadata": {},
   "outputs": [
    {
     "data": {
      "text/plain": [
       "0.8279971720746508"
      ]
     },
     "execution_count": 110,
     "metadata": {},
     "output_type": "execute_result"
    }
   ],
   "source": [
    "# Primeiro pelo sklearn\n",
    "modelo1 = LinearRegression()\n",
    "# Definir as colunas q usaremos no eixo X\n",
    "X1 = df.loc[:,['AP','APANDAR','COND','PA_CATEG']]\n",
    "# Definir quem será a variável Dependente, usaremos o LNPU\n",
    "y1 = df.loc[:,'LNPU'].values.reshape(-1,1)\n",
    "modelo1.fit(X1, y1)\n",
    "modelo1.score(X1, y1)"
   ]
  },
  {
   "cell_type": "code",
   "execution_count": 173,
   "metadata": {},
   "outputs": [
    {
     "name": "stdout",
     "output_type": "stream",
     "text": [
      "Interseção: [8.9044765]\n",
      "AP - Inclinação: -0.006493041569571779\n",
      "APANDAR - Inclinação: -0.07839049042555746\n",
      "COND - Inclinação: 0.0002909446376096218\n",
      "PA_CATEG - Inclinação: 0.21173667648788388\n"
     ]
    }
   ],
   "source": [
    "print('Interseção: ' + str(modelo1.intercept_))\n",
    "for i in range(len(X1.columns)):\n",
    "    print(X1.columns[i]+' - Inclinação: '+str(modelo1.coef_[0,i]))"
   ]
  },
  {
   "cell_type": "code",
   "execution_count": 174,
   "metadata": {},
   "outputs": [
    {
     "data": {
      "text/html": [
       "<table class=\"simpletable\">\n",
       "<caption>OLS Regression Results</caption>\n",
       "<tr>\n",
       "  <th>Dep. Variable:</th>          <td>LNPU</td>       <th>  R-squared:         </th> <td>   0.828</td>\n",
       "</tr>\n",
       "<tr>\n",
       "  <th>Model:</th>                   <td>OLS</td>       <th>  Adj. R-squared:    </th> <td>   0.798</td>\n",
       "</tr>\n",
       "<tr>\n",
       "  <th>Method:</th>             <td>Least Squares</td>  <th>  F-statistic:       </th> <td>   27.68</td>\n",
       "</tr>\n",
       "<tr>\n",
       "  <th>Date:</th>             <td>Tue, 08 Dec 2020</td> <th>  Prob (F-statistic):</th> <td>1.70e-08</td>\n",
       "</tr>\n",
       "<tr>\n",
       "  <th>Time:</th>                 <td>00:47:40</td>     <th>  Log-Likelihood:    </th> <td>  27.552</td>\n",
       "</tr>\n",
       "<tr>\n",
       "  <th>No. Observations:</th>      <td>    28</td>      <th>  AIC:               </th> <td>  -45.10</td>\n",
       "</tr>\n",
       "<tr>\n",
       "  <th>Df Residuals:</th>          <td>    23</td>      <th>  BIC:               </th> <td>  -38.44</td>\n",
       "</tr>\n",
       "<tr>\n",
       "  <th>Df Model:</th>              <td>     4</td>      <th>                     </th>     <td> </td>   \n",
       "</tr>\n",
       "<tr>\n",
       "  <th>Covariance Type:</th>      <td>nonrobust</td>    <th>                     </th>     <td> </td>   \n",
       "</tr>\n",
       "</table>\n",
       "<table class=\"simpletable\">\n",
       "<tr>\n",
       "      <td></td>         <th>coef</th>     <th>std err</th>      <th>t</th>      <th>P>|t|</th>  <th>[0.025</th>    <th>0.975]</th>  \n",
       "</tr>\n",
       "<tr>\n",
       "  <th>Intercept</th> <td>    8.9045</td> <td>    0.187</td> <td>   47.733</td> <td> 0.000</td> <td>    8.519</td> <td>    9.290</td>\n",
       "</tr>\n",
       "<tr>\n",
       "  <th>AP</th>        <td>   -0.0065</td> <td>    0.001</td> <td>   -6.263</td> <td> 0.000</td> <td>   -0.009</td> <td>   -0.004</td>\n",
       "</tr>\n",
       "<tr>\n",
       "  <th>APANDAR</th>   <td>   -0.0784</td> <td>    0.022</td> <td>   -3.641</td> <td> 0.001</td> <td>   -0.123</td> <td>   -0.034</td>\n",
       "</tr>\n",
       "<tr>\n",
       "  <th>COND</th>      <td>    0.0003</td> <td>    0.000</td> <td>    2.417</td> <td> 0.024</td> <td> 4.19e-05</td> <td>    0.001</td>\n",
       "</tr>\n",
       "<tr>\n",
       "  <th>PA_CATEG</th>  <td>    0.2117</td> <td>    0.027</td> <td>    7.734</td> <td> 0.000</td> <td>    0.155</td> <td>    0.268</td>\n",
       "</tr>\n",
       "</table>\n",
       "<table class=\"simpletable\">\n",
       "<tr>\n",
       "  <th>Omnibus:</th>       <td> 0.689</td> <th>  Durbin-Watson:     </th> <td>   2.075</td>\n",
       "</tr>\n",
       "<tr>\n",
       "  <th>Prob(Omnibus):</th> <td> 0.709</td> <th>  Jarque-Bera (JB):  </th> <td>   0.764</td>\n",
       "</tr>\n",
       "<tr>\n",
       "  <th>Skew:</th>          <td>-0.288</td> <th>  Prob(JB):          </th> <td>   0.682</td>\n",
       "</tr>\n",
       "<tr>\n",
       "  <th>Kurtosis:</th>      <td> 2.431</td> <th>  Cond. No.          </th> <td>6.12e+03</td>\n",
       "</tr>\n",
       "</table><br/><br/>Warnings:<br/>[1] Standard Errors assume that the covariance matrix of the errors is correctly specified.<br/>[2] The condition number is large, 6.12e+03. This might indicate that there are<br/>strong multicollinearity or other numerical problems."
      ],
      "text/plain": [
       "<class 'statsmodels.iolib.summary.Summary'>\n",
       "\"\"\"\n",
       "                            OLS Regression Results                            \n",
       "==============================================================================\n",
       "Dep. Variable:                   LNPU   R-squared:                       0.828\n",
       "Model:                            OLS   Adj. R-squared:                  0.798\n",
       "Method:                 Least Squares   F-statistic:                     27.68\n",
       "Date:                Tue, 08 Dec 2020   Prob (F-statistic):           1.70e-08\n",
       "Time:                        00:47:40   Log-Likelihood:                 27.552\n",
       "No. Observations:                  28   AIC:                            -45.10\n",
       "Df Residuals:                      23   BIC:                            -38.44\n",
       "Df Model:                           4                                         \n",
       "Covariance Type:            nonrobust                                         \n",
       "==============================================================================\n",
       "                 coef    std err          t      P>|t|      [0.025      0.975]\n",
       "------------------------------------------------------------------------------\n",
       "Intercept      8.9045      0.187     47.733      0.000       8.519       9.290\n",
       "AP            -0.0065      0.001     -6.263      0.000      -0.009      -0.004\n",
       "APANDAR       -0.0784      0.022     -3.641      0.001      -0.123      -0.034\n",
       "COND           0.0003      0.000      2.417      0.024    4.19e-05       0.001\n",
       "PA_CATEG       0.2117      0.027      7.734      0.000       0.155       0.268\n",
       "==============================================================================\n",
       "Omnibus:                        0.689   Durbin-Watson:                   2.075\n",
       "Prob(Omnibus):                  0.709   Jarque-Bera (JB):                0.764\n",
       "Skew:                          -0.288   Prob(JB):                        0.682\n",
       "Kurtosis:                       2.431   Cond. No.                     6.12e+03\n",
       "==============================================================================\n",
       "\n",
       "Warnings:\n",
       "[1] Standard Errors assume that the covariance matrix of the errors is correctly specified.\n",
       "[2] The condition number is large, 6.12e+03. This might indicate that there are\n",
       "strong multicollinearity or other numerical problems.\n",
       "\"\"\""
      ]
     },
     "execution_count": 174,
     "metadata": {},
     "output_type": "execute_result"
    }
   ],
   "source": [
    "# O modelo 2 é uma adaptação do modelo de R, temos mais informações diretamente do modelo\n",
    "modelo2 = sm.ols(formula = 'LNPU ~ AP+APANDAR+COND+PA_CATEG', data = df)\n",
    "modelo2 = modelo2.fit()\n",
    "modelo2.summary()"
   ]
  },
  {
   "cell_type": "code",
   "execution_count": 123,
   "metadata": {},
   "outputs": [
    {
     "data": {
      "text/plain": [
       "0.09979970085054023"
      ]
     },
     "execution_count": 123,
     "metadata": {},
     "output_type": "execute_result"
    }
   ],
   "source": []
  },
  {
   "cell_type": "code",
   "execution_count": 119,
   "metadata": {},
   "outputs": [
    {
     "data": {
      "text/plain": [
       "Intercept    0.165077\n",
       "AP           0.001171\n",
       "APANDAR      0.019844\n",
       "COND         0.000107\n",
       "PA_CATEG     0.022173\n",
       "dtype: float64"
      ]
     },
     "execution_count": 119,
     "metadata": {},
     "output_type": "execute_result"
    }
   ],
   "source": [
    "modelo2.HC0_se"
   ]
  },
  {
   "cell_type": "markdown",
   "metadata": {},
   "source": [
    "### Quarta Parte: Gerar a tabela de Resíduos"
   ]
  },
  {
   "cell_type": "code",
   "execution_count": 125,
   "metadata": {},
   "outputs": [],
   "source": [
    "residuos = pd.DataFrame()\n",
    "residuos['LNPU_Observado'] = df['LNPU'].values\n",
    "residuos['LNPU_Previstos'] = modelo1.predict(X1)\n",
    "residuos['Residuo'] = residuos['LNPU_Observado'] - residuos['LNPU_Previstos']\n",
    "residuos['Residuo_relativo'] = residuos['Residuo']/residuos['LNPU_Observado']* 100\n",
    "# O erro do modelo não é explicitado. Para isso iremos calcular diretamente \n",
    "# Temos 4 variáveis independentes logo o grau de liberadade é 4 + 1\n",
    "desv = np.std(residuos['Residuo'].values, ddof=5) # N + 1 graus de liberdade \n",
    "residuos['Residuo_padronizado'] = residuos['Residuo']/desv"
   ]
  },
  {
   "cell_type": "code",
   "execution_count": null,
   "metadata": {},
   "outputs": [],
   "source": [
    "# Acrescentando os valores de PU agora\n",
    "residuos['PU'] = df['PU'].values\n",
    "residuos['VU'] = residuos['LNPU_Previstos'].apply(np.exp)\n",
    "residuos['Residuo_estimat'] = residuos['PU'] - residuos['VU']\n",
    "residuos['Residuo_estimat_relativo'] = residuos['Residuo_estimat']/residuos['PU']*100"
   ]
  },
  {
   "cell_type": "code",
   "execution_count": 149,
   "metadata": {},
   "outputs": [
    {
     "data": {
      "text/html": [
       "<div>\n",
       "<style scoped>\n",
       "    .dataframe tbody tr th:only-of-type {\n",
       "        vertical-align: middle;\n",
       "    }\n",
       "\n",
       "    .dataframe tbody tr th {\n",
       "        vertical-align: top;\n",
       "    }\n",
       "\n",
       "    .dataframe thead th {\n",
       "        text-align: right;\n",
       "    }\n",
       "</style>\n",
       "<table border=\"1\" class=\"dataframe\">\n",
       "  <thead>\n",
       "    <tr style=\"text-align: right;\">\n",
       "      <th></th>\n",
       "      <th>LNPU_Observado</th>\n",
       "      <th>LNPU_Previstos</th>\n",
       "      <th>Residuo</th>\n",
       "      <th>Residuo_relativo</th>\n",
       "      <th>Residuo_padronizado</th>\n",
       "      <th>PU</th>\n",
       "      <th>VU</th>\n",
       "      <th>Residuo_estimat</th>\n",
       "      <th>Residuo_estimat_relativo</th>\n",
       "    </tr>\n",
       "  </thead>\n",
       "  <tbody>\n",
       "    <tr>\n",
       "      <th>0</th>\n",
       "      <td>8.517193</td>\n",
       "      <td>8.506937</td>\n",
       "      <td>0.010256</td>\n",
       "      <td>0.120419</td>\n",
       "      <td>0.102769</td>\n",
       "      <td>5000.00</td>\n",
       "      <td>4948.980451</td>\n",
       "      <td>51.019549</td>\n",
       "      <td>1.020391</td>\n",
       "    </tr>\n",
       "    <tr>\n",
       "      <th>1</th>\n",
       "      <td>8.421882</td>\n",
       "      <td>8.305494</td>\n",
       "      <td>0.116388</td>\n",
       "      <td>1.381969</td>\n",
       "      <td>1.166214</td>\n",
       "      <td>4545.45</td>\n",
       "      <td>4046.041138</td>\n",
       "      <td>499.408862</td>\n",
       "      <td>10.987006</td>\n",
       "    </tr>\n",
       "    <tr>\n",
       "      <th>2</th>\n",
       "      <td>8.618288</td>\n",
       "      <td>8.633724</td>\n",
       "      <td>-0.015435</td>\n",
       "      <td>-0.179099</td>\n",
       "      <td>-0.154662</td>\n",
       "      <td>5531.91</td>\n",
       "      <td>5617.958880</td>\n",
       "      <td>-86.048880</td>\n",
       "      <td>-1.555500</td>\n",
       "    </tr>\n",
       "    <tr>\n",
       "      <th>3</th>\n",
       "      <td>8.637338</td>\n",
       "      <td>8.633724</td>\n",
       "      <td>0.003614</td>\n",
       "      <td>0.041844</td>\n",
       "      <td>0.036214</td>\n",
       "      <td>5638.30</td>\n",
       "      <td>5617.958880</td>\n",
       "      <td>20.341120</td>\n",
       "      <td>0.360767</td>\n",
       "    </tr>\n",
       "    <tr>\n",
       "      <th>4</th>\n",
       "      <td>8.411833</td>\n",
       "      <td>8.464516</td>\n",
       "      <td>-0.052683</td>\n",
       "      <td>-0.626302</td>\n",
       "      <td>-0.527892</td>\n",
       "      <td>4500.00</td>\n",
       "      <td>4743.431806</td>\n",
       "      <td>-243.431806</td>\n",
       "      <td>-5.409596</td>\n",
       "    </tr>\n",
       "  </tbody>\n",
       "</table>\n",
       "</div>"
      ],
      "text/plain": [
       "   LNPU_Observado  LNPU_Previstos   Residuo  Residuo_relativo  \\\n",
       "0        8.517193        8.506937  0.010256          0.120419   \n",
       "1        8.421882        8.305494  0.116388          1.381969   \n",
       "2        8.618288        8.633724 -0.015435         -0.179099   \n",
       "3        8.637338        8.633724  0.003614          0.041844   \n",
       "4        8.411833        8.464516 -0.052683         -0.626302   \n",
       "\n",
       "   Residuo_padronizado       PU           VU  Residuo_estimat  \\\n",
       "0             0.102769  5000.00  4948.980451        51.019549   \n",
       "1             1.166214  4545.45  4046.041138       499.408862   \n",
       "2            -0.154662  5531.91  5617.958880       -86.048880   \n",
       "3             0.036214  5638.30  5617.958880        20.341120   \n",
       "4            -0.527892  4500.00  4743.431806      -243.431806   \n",
       "\n",
       "   Residuo_estimat_relativo  \n",
       "0                  1.020391  \n",
       "1                 10.987006  \n",
       "2                 -1.555500  \n",
       "3                  0.360767  \n",
       "4                 -5.409596  "
      ]
     },
     "execution_count": 149,
     "metadata": {},
     "output_type": "execute_result"
    }
   ],
   "source": [
    "residuos.head()"
   ]
  },
  {
   "cell_type": "markdown",
   "metadata": {},
   "source": [
    "#### Gráfico de Aderência"
   ]
  },
  {
   "cell_type": "code",
   "execution_count": 167,
   "metadata": {},
   "outputs": [
    {
     "data": {
      "image/png": "[encoded data removed]",
      "text/plain": [
       "<Figure size 432x288 with 1 Axes>"
      ]
     },
     "metadata": {
      "needs_background": "light"
     },
     "output_type": "display_data"
    }
   ],
   "source": [
    "plt.scatter(residuos['PU'], residuos['VU'], s=40)\n",
    "plt.plot(np.linspace(2500, 6300, 200), np.linspace(2500, 6300, 200), color = 'red', linewidth=4)\n",
    "plt.grid()"
   ]
  },
  {
   "cell_type": "code",
   "execution_count": null,
   "metadata": {},
   "outputs": [],
   "source": [
    "AP_Luciano <- 107\n",
    "PA_Luciano <- 1 # Alto =1\n",
    "APANDAR_Luciano <- 4\n",
    "COND_Luciano <- 800"
   ]
  },
  {
   "cell_type": "code",
   "execution_count": null,
   "metadata": {},
   "outputs": [],
   "source": []
  },
  {
   "cell_type": "code",
   "execution_count": 172,
   "metadata": {},
   "outputs": [
    {
     "data": {
      "text/plain": [
       "array([[6400.45801999]])"
      ]
     },
     "execution_count": 172,
     "metadata": {},
     "output_type": "execute_result"
    }
   ],
   "source": [
    "X_previsao = np.array([107, 4, 800, 3]).reshape(1, -1)\n",
    "np.exp(modelo1.predict(X_previsao))"
   ]
  },
  {
   "cell_type": "code",
   "execution_count": null,
   "metadata": {},
   "outputs": [],
   "source": []
  },
  {
   "cell_type": "code",
   "execution_count": null,
   "metadata": {},
   "outputs": [],
   "source": []
  },
  {
   "cell_type": "code",
   "execution_count": null,
   "metadata": {},
   "outputs": [],
   "source": []
  },
  {
   "cell_type": "code",
   "execution_count": null,
   "metadata": {},
   "outputs": [],
   "source": []
  },
  {
   "cell_type": "code",
   "execution_count": null,
   "metadata": {},
   "outputs": [],
   "source": []
  },
  {
   "cell_type": "code",
   "execution_count": null,
   "metadata": {},
   "outputs": [],
   "source": []
  },
  {
   "cell_type": "code",
   "execution_count": null,
   "metadata": {},
   "outputs": [],
   "source": []
  },
  {
   "cell_type": "code",
   "execution_count": 144,
   "metadata": {},
   "outputs": [],
   "source": []
  },
  {
   "cell_type": "code",
   "execution_count": 139,
   "metadata": {},
   "outputs": [],
   "source": []
  },
  {
   "cell_type": "code",
   "execution_count": null,
   "metadata": {},
   "outputs": [],
   "source": []
  },
  {
   "cell_type": "code",
   "execution_count": 98,
   "metadata": {},
   "outputs": [
    {
     "data": {
      "text/plain": [
       "-0.07839049042555746"
      ]
     },
     "execution_count": 98,
     "metadata": {},
     "output_type": "execute_result"
    }
   ],
   "source": [
    "modelo1.coef_[0,1]"
   ]
  },
  {
   "cell_type": "code",
   "execution_count": 99,
   "metadata": {},
   "outputs": [
    {
     "data": {
      "text/plain": [
       "array([[-0.00649304, -0.07839049,  0.00029094,  0.21173668]])"
      ]
     },
     "execution_count": 99,
     "metadata": {},
     "output_type": "execute_result"
    }
   ],
   "source": [
    "modelo1.coef_"
   ]
  },
  {
   "cell_type": "code",
   "execution_count": 18,
   "metadata": {},
   "outputs": [],
   "source": [
    "colunas = ['Id','Preco','Area','Dist','Coef_Aprov','ACL_DECL','Frente']\n",
    "\n",
    "df = pd.read_csv('geo.txt', header = None, names = colunas)\n",
    "df.drop(columns=['Id'], inplace=True)"
   ]
  },
  {
   "cell_type": "code",
   "execution_count": 19,
   "metadata": {},
   "outputs": [
    {
     "data": {
      "text/html": [
       "<div>\n",
       "<style scoped>\n",
       "    .dataframe tbody tr th:only-of-type {\n",
       "        vertical-align: middle;\n",
       "    }\n",
       "\n",
       "    .dataframe tbody tr th {\n",
       "        vertical-align: top;\n",
       "    }\n",
       "\n",
       "    .dataframe thead th {\n",
       "        text-align: right;\n",
       "    }\n",
       "</style>\n",
       "<table border=\"1\" class=\"dataframe\">\n",
       "  <thead>\n",
       "    <tr style=\"text-align: right;\">\n",
       "      <th></th>\n",
       "      <th>Preco</th>\n",
       "      <th>Area</th>\n",
       "      <th>Dist</th>\n",
       "      <th>Coef_Aprov</th>\n",
       "      <th>ACL_DECL</th>\n",
       "      <th>Frente</th>\n",
       "    </tr>\n",
       "  </thead>\n",
       "  <tbody>\n",
       "    <tr>\n",
       "      <th>0</th>\n",
       "      <td>25000</td>\n",
       "      <td>359.87</td>\n",
       "      <td>200</td>\n",
       "      <td>1.5</td>\n",
       "      <td>0.75</td>\n",
       "      <td>19.00</td>\n",
       "    </tr>\n",
       "    <tr>\n",
       "      <th>1</th>\n",
       "      <td>45000</td>\n",
       "      <td>353.12</td>\n",
       "      <td>500</td>\n",
       "      <td>3.0</td>\n",
       "      <td>1.00</td>\n",
       "      <td>12.18</td>\n",
       "    </tr>\n",
       "    <tr>\n",
       "      <th>2</th>\n",
       "      <td>45000</td>\n",
       "      <td>341.89</td>\n",
       "      <td>40</td>\n",
       "      <td>1.5</td>\n",
       "      <td>1.00</td>\n",
       "      <td>14.98</td>\n",
       "    </tr>\n",
       "    <tr>\n",
       "      <th>3</th>\n",
       "      <td>20000</td>\n",
       "      <td>435.99</td>\n",
       "      <td>200</td>\n",
       "      <td>1.5</td>\n",
       "      <td>0.75</td>\n",
       "      <td>12.18</td>\n",
       "    </tr>\n",
       "    <tr>\n",
       "      <th>4</th>\n",
       "      <td>25000</td>\n",
       "      <td>341.77</td>\n",
       "      <td>500</td>\n",
       "      <td>1.5</td>\n",
       "      <td>0.75</td>\n",
       "      <td>12.93</td>\n",
       "    </tr>\n",
       "  </tbody>\n",
       "</table>\n",
       "</div>"
      ],
      "text/plain": [
       "   Preco    Area  Dist  Coef_Aprov  ACL_DECL  Frente\n",
       "0  25000  359.87   200         1.5      0.75   19.00\n",
       "1  45000  353.12   500         3.0      1.00   12.18\n",
       "2  45000  341.89    40         1.5      1.00   14.98\n",
       "3  20000  435.99   200         1.5      0.75   12.18\n",
       "4  25000  341.77   500         1.5      0.75   12.93"
      ]
     },
     "execution_count": 19,
     "metadata": {},
     "output_type": "execute_result"
    }
   ],
   "source": [
    "df.head()"
   ]
  },
  {
   "cell_type": "code",
   "execution_count": 20,
   "metadata": {},
   "outputs": [
    {
     "data": {
      "text/html": [
       "<div>\n",
       "<style scoped>\n",
       "    .dataframe tbody tr th:only-of-type {\n",
       "        vertical-align: middle;\n",
       "    }\n",
       "\n",
       "    .dataframe tbody tr th {\n",
       "        vertical-align: top;\n",
       "    }\n",
       "\n",
       "    .dataframe thead th {\n",
       "        text-align: right;\n",
       "    }\n",
       "</style>\n",
       "<table border=\"1\" class=\"dataframe\">\n",
       "  <thead>\n",
       "    <tr style=\"text-align: right;\">\n",
       "      <th></th>\n",
       "      <th>Preco</th>\n",
       "      <th>Area</th>\n",
       "      <th>Dist</th>\n",
       "      <th>Coef_Aprov</th>\n",
       "      <th>ACL_DECL</th>\n",
       "      <th>Frente</th>\n",
       "    </tr>\n",
       "  </thead>\n",
       "  <tbody>\n",
       "    <tr>\n",
       "      <th>count</th>\n",
       "      <td>54.000000</td>\n",
       "      <td>54.000000</td>\n",
       "      <td>54.000000</td>\n",
       "      <td>54.000000</td>\n",
       "      <td>54.000000</td>\n",
       "      <td>54.000000</td>\n",
       "    </tr>\n",
       "    <tr>\n",
       "      <th>mean</th>\n",
       "      <td>41296.296296</td>\n",
       "      <td>457.483519</td>\n",
       "      <td>284.259259</td>\n",
       "      <td>2.111111</td>\n",
       "      <td>0.930556</td>\n",
       "      <td>26.945185</td>\n",
       "    </tr>\n",
       "    <tr>\n",
       "      <th>std</th>\n",
       "      <td>16488.566227</td>\n",
       "      <td>261.527053</td>\n",
       "      <td>183.525247</td>\n",
       "      <td>0.743948</td>\n",
       "      <td>0.088177</td>\n",
       "      <td>17.570752</td>\n",
       "    </tr>\n",
       "    <tr>\n",
       "      <th>min</th>\n",
       "      <td>20000.000000</td>\n",
       "      <td>293.220000</td>\n",
       "      <td>40.000000</td>\n",
       "      <td>1.500000</td>\n",
       "      <td>0.750000</td>\n",
       "      <td>10.010000</td>\n",
       "    </tr>\n",
       "    <tr>\n",
       "      <th>25%</th>\n",
       "      <td>30000.000000</td>\n",
       "      <td>355.087500</td>\n",
       "      <td>200.000000</td>\n",
       "      <td>1.500000</td>\n",
       "      <td>0.900000</td>\n",
       "      <td>12.370000</td>\n",
       "    </tr>\n",
       "    <tr>\n",
       "      <th>50%</th>\n",
       "      <td>40000.000000</td>\n",
       "      <td>380.360000</td>\n",
       "      <td>200.000000</td>\n",
       "      <td>1.500000</td>\n",
       "      <td>1.000000</td>\n",
       "      <td>16.120000</td>\n",
       "    </tr>\n",
       "    <tr>\n",
       "      <th>75%</th>\n",
       "      <td>50000.000000</td>\n",
       "      <td>470.087500</td>\n",
       "      <td>500.000000</td>\n",
       "      <td>3.000000</td>\n",
       "      <td>1.000000</td>\n",
       "      <td>39.975000</td>\n",
       "    </tr>\n",
       "    <tr>\n",
       "      <th>max</th>\n",
       "      <td>120000.000000</td>\n",
       "      <td>2057.570000</td>\n",
       "      <td>650.000000</td>\n",
       "      <td>3.000000</td>\n",
       "      <td>1.000000</td>\n",
       "      <td>75.400000</td>\n",
       "    </tr>\n",
       "  </tbody>\n",
       "</table>\n",
       "</div>"
      ],
      "text/plain": [
       "               Preco         Area        Dist  Coef_Aprov   ACL_DECL  \\\n",
       "count      54.000000    54.000000   54.000000   54.000000  54.000000   \n",
       "mean    41296.296296   457.483519  284.259259    2.111111   0.930556   \n",
       "std     16488.566227   261.527053  183.525247    0.743948   0.088177   \n",
       "min     20000.000000   293.220000   40.000000    1.500000   0.750000   \n",
       "25%     30000.000000   355.087500  200.000000    1.500000   0.900000   \n",
       "50%     40000.000000   380.360000  200.000000    1.500000   1.000000   \n",
       "75%     50000.000000   470.087500  500.000000    3.000000   1.000000   \n",
       "max    120000.000000  2057.570000  650.000000    3.000000   1.000000   \n",
       "\n",
       "          Frente  \n",
       "count  54.000000  \n",
       "mean   26.945185  \n",
       "std    17.570752  \n",
       "min    10.010000  \n",
       "25%    12.370000  \n",
       "50%    16.120000  \n",
       "75%    39.975000  \n",
       "max    75.400000  "
      ]
     },
     "execution_count": 20,
     "metadata": {},
     "output_type": "execute_result"
    }
   ],
   "source": [
    "df.describe()"
   ]
  },
  {
   "cell_type": "code",
   "execution_count": 33,
   "metadata": {},
   "outputs": [
    {
     "data": {
      "image/png": "[encoded data removed]",
      "text/plain": [
       "<Figure size 432x288 with 1 Axes>"
      ]
     },
     "metadata": {
      "needs_background": "light"
     },
     "output_type": "display_data"
    }
   ],
   "source": [
    "modelo = LinearRegression()\n",
    "X = df.loc[:,'Area'].values.reshape(-1,1)\n",
    "y = df.loc[:,'Preco'].values.reshape(-1,1)\n",
    "modelo.fit(X, y)\n",
    "plt.scatter(X, y)\n",
    "plt.plot(X, modelo.predict(X), color = 'red')\n",
    "plt.show()"
   ]
  },
  {
   "cell_type": "code",
   "execution_count": 36,
   "metadata": {},
   "outputs": [
    {
     "data": {
      "text/plain": [
       "0.35018010801369304"
      ]
     },
     "execution_count": 36,
     "metadata": {},
     "output_type": "execute_result"
    }
   ],
   "source": [
    "# Score = R² \n",
    "modelo.score(X,y)"
   ]
  },
  {
   "cell_type": "code",
   "execution_count": 35,
   "metadata": {},
   "outputs": [
    {
     "data": {
      "image/png": "[encoded data removed]",
      "text/plain": [
       "<Figure size 432x288 with 1 Axes>"
      ]
     },
     "metadata": {
      "needs_background": "light"
     },
     "output_type": "display_data"
    }
   ],
   "source": [
    "modelo = LinearRegression()\n",
    "X = df.loc[:,'Coef_Aprov'].values.reshape(-1,1)\n",
    "y = df.loc[:,'Preco'].values.reshape(-1,1)\n",
    "modelo.fit(X, y)\n",
    "plt.scatter(X, y)\n",
    "plt.plot(X, modelo.predict(X), color = 'red')\n",
    "plt.show()"
   ]
  },
  {
   "cell_type": "code",
   "execution_count": 37,
   "metadata": {},
   "outputs": [
    {
     "data": {
      "text/html": [
       "<table class=\"simpletable\">\n",
       "<caption>OLS Regression Results</caption>\n",
       "<tr>\n",
       "  <th>Dep. Variable:</th>          <td>Preco</td>      <th>  R-squared:         </th> <td>   0.588</td>\n",
       "</tr>\n",
       "<tr>\n",
       "  <th>Model:</th>                   <td>OLS</td>       <th>  Adj. R-squared:    </th> <td>   0.545</td>\n",
       "</tr>\n",
       "<tr>\n",
       "  <th>Method:</th>             <td>Least Squares</td>  <th>  F-statistic:       </th> <td>   13.72</td>\n",
       "</tr>\n",
       "<tr>\n",
       "  <th>Date:</th>             <td>Wed, 02 Dec 2020</td> <th>  Prob (F-statistic):</th> <td>2.52e-08</td>\n",
       "</tr>\n",
       "<tr>\n",
       "  <th>Time:</th>                 <td>00:21:22</td>     <th>  Log-Likelihood:    </th> <td> -576.52</td>\n",
       "</tr>\n",
       "<tr>\n",
       "  <th>No. Observations:</th>      <td>    54</td>      <th>  AIC:               </th> <td>   1165.</td>\n",
       "</tr>\n",
       "<tr>\n",
       "  <th>Df Residuals:</th>          <td>    48</td>      <th>  BIC:               </th> <td>   1177.</td>\n",
       "</tr>\n",
       "<tr>\n",
       "  <th>Df Model:</th>              <td>     5</td>      <th>                     </th>     <td> </td>   \n",
       "</tr>\n",
       "<tr>\n",
       "  <th>Covariance Type:</th>      <td>nonrobust</td>    <th>                     </th>     <td> </td>   \n",
       "</tr>\n",
       "</table>\n",
       "<table class=\"simpletable\">\n",
       "<tr>\n",
       "       <td></td>         <th>coef</th>     <th>std err</th>      <th>t</th>      <th>P>|t|</th>  <th>[0.025</th>    <th>0.975]</th>  \n",
       "</tr>\n",
       "<tr>\n",
       "  <th>Intercept</th>  <td>-3.903e+04</td> <td> 1.76e+04</td> <td>   -2.219</td> <td> 0.031</td> <td>-7.44e+04</td> <td>-3662.054</td>\n",
       "</tr>\n",
       "<tr>\n",
       "  <th>Area</th>       <td>   16.6251</td> <td>    6.647</td> <td>    2.501</td> <td> 0.016</td> <td>    3.260</td> <td>   29.991</td>\n",
       "</tr>\n",
       "<tr>\n",
       "  <th>Dist</th>       <td>   -3.9370</td> <td>    9.020</td> <td>   -0.436</td> <td> 0.664</td> <td>  -22.073</td> <td>   14.199</td>\n",
       "</tr>\n",
       "<tr>\n",
       "  <th>Coef_Aprov</th> <td> 8088.6255</td> <td> 2270.095</td> <td>    3.563</td> <td> 0.001</td> <td> 3524.294</td> <td> 1.27e+04</td>\n",
       "</tr>\n",
       "<tr>\n",
       "  <th>ACL_DECL</th>   <td> 5.471e+04</td> <td> 1.83e+04</td> <td>    2.987</td> <td> 0.004</td> <td> 1.79e+04</td> <td> 9.15e+04</td>\n",
       "</tr>\n",
       "<tr>\n",
       "  <th>Frente</th>     <td>  217.2639</td> <td>   95.773</td> <td>    2.269</td> <td> 0.028</td> <td>   24.700</td> <td>  409.828</td>\n",
       "</tr>\n",
       "</table>\n",
       "<table class=\"simpletable\">\n",
       "<tr>\n",
       "  <th>Omnibus:</th>       <td>48.606</td> <th>  Durbin-Watson:     </th> <td>   2.139</td>\n",
       "</tr>\n",
       "<tr>\n",
       "  <th>Prob(Omnibus):</th> <td> 0.000</td> <th>  Jarque-Bera (JB):  </th> <td> 251.369</td>\n",
       "</tr>\n",
       "<tr>\n",
       "  <th>Skew:</th>          <td> 2.326</td> <th>  Prob(JB):          </th> <td>2.61e-55</td>\n",
       "</tr>\n",
       "<tr>\n",
       "  <th>Kurtosis:</th>      <td>12.491</td> <th>  Cond. No.          </th> <td>9.57e+03</td>\n",
       "</tr>\n",
       "</table><br/><br/>Warnings:<br/>[1] Standard Errors assume that the covariance matrix of the errors is correctly specified.<br/>[2] The condition number is large, 9.57e+03. This might indicate that there are<br/>strong multicollinearity or other numerical problems."
      ],
      "text/plain": [
       "<class 'statsmodels.iolib.summary.Summary'>\n",
       "\"\"\"\n",
       "                            OLS Regression Results                            \n",
       "==============================================================================\n",
       "Dep. Variable:                  Preco   R-squared:                       0.588\n",
       "Model:                            OLS   Adj. R-squared:                  0.545\n",
       "Method:                 Least Squares   F-statistic:                     13.72\n",
       "Date:                Wed, 02 Dec 2020   Prob (F-statistic):           2.52e-08\n",
       "Time:                        00:21:22   Log-Likelihood:                -576.52\n",
       "No. Observations:                  54   AIC:                             1165.\n",
       "Df Residuals:                      48   BIC:                             1177.\n",
       "Df Model:                           5                                         \n",
       "Covariance Type:            nonrobust                                         \n",
       "==============================================================================\n",
       "                 coef    std err          t      P>|t|      [0.025      0.975]\n",
       "------------------------------------------------------------------------------\n",
       "Intercept  -3.903e+04   1.76e+04     -2.219      0.031   -7.44e+04   -3662.054\n",
       "Area          16.6251      6.647      2.501      0.016       3.260      29.991\n",
       "Dist          -3.9370      9.020     -0.436      0.664     -22.073      14.199\n",
       "Coef_Aprov  8088.6255   2270.095      3.563      0.001    3524.294    1.27e+04\n",
       "ACL_DECL    5.471e+04   1.83e+04      2.987      0.004    1.79e+04    9.15e+04\n",
       "Frente       217.2639     95.773      2.269      0.028      24.700     409.828\n",
       "==============================================================================\n",
       "Omnibus:                       48.606   Durbin-Watson:                   2.139\n",
       "Prob(Omnibus):                  0.000   Jarque-Bera (JB):              251.369\n",
       "Skew:                           2.326   Prob(JB):                     2.61e-55\n",
       "Kurtosis:                      12.491   Cond. No.                     9.57e+03\n",
       "==============================================================================\n",
       "\n",
       "Warnings:\n",
       "[1] Standard Errors assume that the covariance matrix of the errors is correctly specified.\n",
       "[2] The condition number is large, 9.57e+03. This might indicate that there are\n",
       "strong multicollinearity or other numerical problems.\n",
       "\"\"\""
      ]
     },
     "execution_count": 37,
     "metadata": {},
     "output_type": "execute_result"
    }
   ],
   "source": [
    "modelo2 = sm.ols(formula = 'Preco ~ Area+Dist+Coef_Aprov+ACL_DECL+Frente', data = df)\n",
    "modelo2 = modelo2.fit()\n",
    "modelo2.summary()"
   ]
  },
  {
   "cell_type": "code",
   "execution_count": 38,
   "metadata": {},
   "outputs": [
    {
     "data": {
      "text/plain": [
       "0.5883022243050506"
      ]
     },
     "execution_count": 38,
     "metadata": {},
     "output_type": "execute_result"
    }
   ],
   "source": [
    "modelo1 = LinearRegression()\n",
    "X1 = df.loc[:,['Area','Dist','Coef_Aprov','ACL_DECL','Frente']]\n",
    "y1 = df.loc[:,'Preco'].values.reshape(-1,1)\n",
    "modelo1.fit(X1, y1)\n",
    "modelo1.score(X1,y1)"
   ]
  },
  {
   "cell_type": "code",
   "execution_count": 39,
   "metadata": {},
   "outputs": [],
   "source": [
    "valor_novo = np.array([260,180,0.75,1,30])"
   ]
  },
  {
   "cell_type": "code",
   "execution_count": 42,
   "metadata": {},
   "outputs": [
    {
     "data": {
      "text/plain": [
       "array([[31877.22091867]])"
      ]
     },
     "execution_count": 42,
     "metadata": {},
     "output_type": "execute_result"
    }
   ],
   "source": [
    "modelo1.predict(valor_novo.reshape(1,-1))"
   ]
  },
  {
   "cell_type": "code",
   "execution_count": 50,
   "metadata": {},
   "outputs": [
    {
     "data": {
      "text/html": [
       "<div>\n",
       "<style scoped>\n",
       "    .dataframe tbody tr th:only-of-type {\n",
       "        vertical-align: middle;\n",
       "    }\n",
       "\n",
       "    .dataframe tbody tr th {\n",
       "        vertical-align: top;\n",
       "    }\n",
       "\n",
       "    .dataframe thead th {\n",
       "        text-align: right;\n",
       "    }\n",
       "</style>\n",
       "<table border=\"1\" class=\"dataframe\">\n",
       "  <thead>\n",
       "    <tr style=\"text-align: right;\">\n",
       "      <th></th>\n",
       "      <th>Area</th>\n",
       "      <th>Dist</th>\n",
       "      <th>Coef_Aprov</th>\n",
       "      <th>ACL_DECL</th>\n",
       "      <th>Frente</th>\n",
       "    </tr>\n",
       "  </thead>\n",
       "  <tbody>\n",
       "    <tr>\n",
       "      <th>0</th>\n",
       "      <td>260.0</td>\n",
       "      <td>180.0</td>\n",
       "      <td>0.75</td>\n",
       "      <td>1.0</td>\n",
       "      <td>30.0</td>\n",
       "    </tr>\n",
       "  </tbody>\n",
       "</table>\n",
       "</div>"
      ],
      "text/plain": [
       "    Area   Dist  Coef_Aprov  ACL_DECL  Frente\n",
       "0  260.0  180.0        0.75       1.0    30.0"
      ]
     },
     "execution_count": 50,
     "metadata": {},
     "output_type": "execute_result"
    }
   ],
   "source": [
    "valor_novodf = pd.DataFrame(valor_novo.reshape(1,-1))\n",
    "colunas2 = ['Area','Dist','Coef_Aprov','ACL_DECL','Frente']\n",
    "valor_novodf.columns = colunas2\n",
    "valor_novodf.head()"
   ]
  },
  {
   "cell_type": "code",
   "execution_count": 51,
   "metadata": {},
   "outputs": [
    {
     "data": {
      "text/plain": [
       "0    31877.220919\n",
       "dtype: float64"
      ]
     },
     "execution_count": 51,
     "metadata": {},
     "output_type": "execute_result"
    }
   ],
   "source": [
    "modelo2.predict(valor_novodf)"
   ]
  },
  {
   "cell_type": "code",
   "execution_count": 3,
   "metadata": {},
   "outputs": [],
   "source": [
    "df = pd.read_csv('https://raw.githubusercontent.com/Lessalc/DataScience/master/dados.csv', sep = ';')"
   ]
  },
  {
   "cell_type": "code",
   "execution_count": 4,
   "metadata": {},
   "outputs": [
    {
     "data": {
      "text/html": [
       "<div>\n",
       "<style scoped>\n",
       "    .dataframe tbody tr th:only-of-type {\n",
       "        vertical-align: middle;\n",
       "    }\n",
       "\n",
       "    .dataframe tbody tr th {\n",
       "        vertical-align: top;\n",
       "    }\n",
       "\n",
       "    .dataframe thead th {\n",
       "        text-align: right;\n",
       "    }\n",
       "</style>\n",
       "<table border=\"1\" class=\"dataframe\">\n",
       "  <thead>\n",
       "    <tr style=\"text-align: right;\">\n",
       "      <th></th>\n",
       "      <th>DADO</th>\n",
       "      <th>AP</th>\n",
       "      <th>APANDAR</th>\n",
       "      <th>PA</th>\n",
       "      <th>COND</th>\n",
       "      <th>PU</th>\n",
       "    </tr>\n",
       "  </thead>\n",
       "  <tbody>\n",
       "    <tr>\n",
       "      <th>0</th>\n",
       "      <td>1</td>\n",
       "      <td>114</td>\n",
       "      <td>4</td>\n",
       "      <td>ALTO</td>\n",
       "      <td>800.0</td>\n",
       "      <td>5000.00</td>\n",
       "    </tr>\n",
       "    <tr>\n",
       "      <th>1</th>\n",
       "      <td>2</td>\n",
       "      <td>110</td>\n",
       "      <td>2</td>\n",
       "      <td>BAIXO</td>\n",
       "      <td>935.0</td>\n",
       "      <td>4545.45</td>\n",
       "    </tr>\n",
       "    <tr>\n",
       "      <th>2</th>\n",
       "      <td>3</td>\n",
       "      <td>94</td>\n",
       "      <td>3</td>\n",
       "      <td>ALTO</td>\n",
       "      <td>520.0</td>\n",
       "      <td>5531.91</td>\n",
       "    </tr>\n",
       "    <tr>\n",
       "      <th>3</th>\n",
       "      <td>4</td>\n",
       "      <td>94</td>\n",
       "      <td>3</td>\n",
       "      <td>ALTO</td>\n",
       "      <td>520.0</td>\n",
       "      <td>5638.30</td>\n",
       "    </tr>\n",
       "    <tr>\n",
       "      <th>4</th>\n",
       "      <td>5</td>\n",
       "      <td>70</td>\n",
       "      <td>4</td>\n",
       "      <td>NORMAL</td>\n",
       "      <td>400.0</td>\n",
       "      <td>4500.00</td>\n",
       "    </tr>\n",
       "  </tbody>\n",
       "</table>\n",
       "</div>"
      ],
      "text/plain": [
       "   DADO   AP  APANDAR      PA   COND       PU\n",
       "0     1  114        4    ALTO  800.0  5000.00\n",
       "1     2  110        2   BAIXO  935.0  4545.45\n",
       "2     3   94        3    ALTO  520.0  5531.91\n",
       "3     4   94        3    ALTO  520.0  5638.30\n",
       "4     5   70        4  NORMAL  400.0  4500.00"
      ]
     },
     "execution_count": 4,
     "metadata": {},
     "output_type": "execute_result"
    }
   ],
   "source": [
    "df.head()"
   ]
  },
  {
   "cell_type": "code",
   "execution_count": null,
   "metadata": {},
   "outputs": [],
   "source": []
  }
 ],
 "metadata": {
  "kernelspec": {
   "display_name": "Python 3",
   "language": "python",
   "name": "python3"
  },
  "language_info": {
   "codemirror_mode": {
    "name": "ipython",
    "version": 3
   },
   "file_extension": ".py",
   "mimetype": "text/x-python",
   "name": "python",
   "nbconvert_exporter": "python",
   "pygments_lexer": "ipython3",
   "version": "3.7.3"
  }
 },
 "nbformat": 4,
 "nbformat_minor": 2
}
